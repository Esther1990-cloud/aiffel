{
 "cells": [
  {
   "cell_type": "code",
   "execution_count": 1,
   "id": "7b7e65ff",
   "metadata": {},
   "outputs": [],
   "source": [
    "import pandas as pd\n",
    "import numpy as np\n",
    "import seaborn as sns"
   ]
  },
  {
   "cell_type": "code",
   "execution_count": 2,
   "id": "1083d346",
   "metadata": {},
   "outputs": [],
   "source": [
    "car_df = pd.read_csv('cars.csv')"
   ]
  },
  {
   "cell_type": "code",
   "execution_count": 3,
   "id": "5e99d914",
   "metadata": {},
   "outputs": [],
   "source": [
    "brand_df = pd.read_csv('brand.csv')"
   ]
  },
  {
   "cell_type": "code",
   "execution_count": 4,
   "id": "56d346c3",
   "metadata": {},
   "outputs": [
    {
     "data": {
      "text/html": [
       "<div>\n",
       "<style scoped>\n",
       "    .dataframe tbody tr th:only-of-type {\n",
       "        vertical-align: middle;\n",
       "    }\n",
       "\n",
       "    .dataframe tbody tr th {\n",
       "        vertical-align: top;\n",
       "    }\n",
       "\n",
       "    .dataframe thead th {\n",
       "        text-align: right;\n",
       "    }\n",
       "</style>\n",
       "<table border=\"1\" class=\"dataframe\">\n",
       "  <thead>\n",
       "    <tr style=\"text-align: right;\">\n",
       "      <th></th>\n",
       "      <th>title</th>\n",
       "      <th>Price</th>\n",
       "      <th>Mileage(miles)</th>\n",
       "      <th>Registration_Year</th>\n",
       "      <th>Previous Owners</th>\n",
       "      <th>Fuel type</th>\n",
       "      <th>Body type</th>\n",
       "      <th>Engine</th>\n",
       "      <th>Gearbox</th>\n",
       "      <th>Doors</th>\n",
       "      <th>Seats</th>\n",
       "      <th>Emission Class</th>\n",
       "      <th>Service history</th>\n",
       "    </tr>\n",
       "  </thead>\n",
       "  <tbody>\n",
       "    <tr>\n",
       "      <th>0</th>\n",
       "      <td>SKODA FABIA</td>\n",
       "      <td>6900</td>\n",
       "      <td>70189</td>\n",
       "      <td>2016</td>\n",
       "      <td>3.0</td>\n",
       "      <td>Diesel</td>\n",
       "      <td>Hatchback</td>\n",
       "      <td>1.4L</td>\n",
       "      <td>Manual</td>\n",
       "      <td>5.0</td>\n",
       "      <td>5.0</td>\n",
       "      <td>Euro 6</td>\n",
       "      <td>NaN</td>\n",
       "    </tr>\n",
       "    <tr>\n",
       "      <th>1</th>\n",
       "      <td>VAUXHALL CORSA</td>\n",
       "      <td>1495</td>\n",
       "      <td>88585</td>\n",
       "      <td>2008</td>\n",
       "      <td>4.0</td>\n",
       "      <td>Petrol</td>\n",
       "      <td>Hatchback</td>\n",
       "      <td>1.2L</td>\n",
       "      <td>Manual</td>\n",
       "      <td>3.0</td>\n",
       "      <td>5.0</td>\n",
       "      <td>Euro 4</td>\n",
       "      <td>Full</td>\n",
       "    </tr>\n",
       "    <tr>\n",
       "      <th>2</th>\n",
       "      <td>HYUNDAI I30</td>\n",
       "      <td>949</td>\n",
       "      <td>137000</td>\n",
       "      <td>2011</td>\n",
       "      <td>NaN</td>\n",
       "      <td>Petrol</td>\n",
       "      <td>Hatchback</td>\n",
       "      <td>1.4L</td>\n",
       "      <td>Manual</td>\n",
       "      <td>5.0</td>\n",
       "      <td>5.0</td>\n",
       "      <td>Euro 5</td>\n",
       "      <td>NaN</td>\n",
       "    </tr>\n",
       "    <tr>\n",
       "      <th>3</th>\n",
       "      <td>MINI HATCH</td>\n",
       "      <td>2395</td>\n",
       "      <td>96731</td>\n",
       "      <td>2010</td>\n",
       "      <td>5.0</td>\n",
       "      <td>Petrol</td>\n",
       "      <td>Hatchback</td>\n",
       "      <td>1.4L</td>\n",
       "      <td>Manual</td>\n",
       "      <td>3.0</td>\n",
       "      <td>4.0</td>\n",
       "      <td>Euro 4</td>\n",
       "      <td>Full</td>\n",
       "    </tr>\n",
       "    <tr>\n",
       "      <th>4</th>\n",
       "      <td>VAUXHALL CORSA</td>\n",
       "      <td>1000</td>\n",
       "      <td>85000</td>\n",
       "      <td>2013</td>\n",
       "      <td>NaN</td>\n",
       "      <td>Diesel</td>\n",
       "      <td>Hatchback</td>\n",
       "      <td>1.3L</td>\n",
       "      <td>Manual</td>\n",
       "      <td>5.0</td>\n",
       "      <td>5.0</td>\n",
       "      <td>Euro 5</td>\n",
       "      <td>NaN</td>\n",
       "    </tr>\n",
       "  </tbody>\n",
       "</table>\n",
       "</div>"
      ],
      "text/plain": [
       "            title  Price  Mileage(miles)  Registration_Year  Previous Owners  \\\n",
       "0     SKODA FABIA   6900           70189               2016              3.0   \n",
       "1  VAUXHALL CORSA   1495           88585               2008              4.0   \n",
       "2     HYUNDAI I30    949          137000               2011              NaN   \n",
       "3      MINI HATCH   2395           96731               2010              5.0   \n",
       "4  VAUXHALL CORSA   1000           85000               2013              NaN   \n",
       "\n",
       "  Fuel type  Body type Engine Gearbox  Doors  Seats Emission Class  \\\n",
       "0    Diesel  Hatchback   1.4L  Manual    5.0    5.0         Euro 6   \n",
       "1    Petrol  Hatchback   1.2L  Manual    3.0    5.0         Euro 4   \n",
       "2    Petrol  Hatchback   1.4L  Manual    5.0    5.0         Euro 5   \n",
       "3    Petrol  Hatchback   1.4L  Manual    3.0    4.0         Euro 4   \n",
       "4    Diesel  Hatchback   1.3L  Manual    5.0    5.0         Euro 5   \n",
       "\n",
       "  Service history  \n",
       "0             NaN  \n",
       "1            Full  \n",
       "2             NaN  \n",
       "3            Full  \n",
       "4             NaN  "
      ]
     },
     "execution_count": 4,
     "metadata": {},
     "output_type": "execute_result"
    }
   ],
   "source": [
    "car_df.head()"
   ]
  },
  {
   "cell_type": "code",
   "execution_count": 5,
   "id": "5c74e7f8",
   "metadata": {},
   "outputs": [
    {
     "data": {
      "text/plain": [
       "(3687, 13)"
      ]
     },
     "execution_count": 5,
     "metadata": {},
     "output_type": "execute_result"
    }
   ],
   "source": [
    "car_df.shape"
   ]
  },
  {
   "cell_type": "code",
   "execution_count": 6,
   "id": "128cfe26",
   "metadata": {},
   "outputs": [
    {
     "data": {
      "text/html": [
       "<div>\n",
       "<style scoped>\n",
       "    .dataframe tbody tr th:only-of-type {\n",
       "        vertical-align: middle;\n",
       "    }\n",
       "\n",
       "    .dataframe tbody tr th {\n",
       "        vertical-align: top;\n",
       "    }\n",
       "\n",
       "    .dataframe thead th {\n",
       "        text-align: right;\n",
       "    }\n",
       "</style>\n",
       "<table border=\"1\" class=\"dataframe\">\n",
       "  <thead>\n",
       "    <tr style=\"text-align: right;\">\n",
       "      <th></th>\n",
       "      <th>title</th>\n",
       "      <th>country</th>\n",
       "    </tr>\n",
       "  </thead>\n",
       "  <tbody>\n",
       "    <tr>\n",
       "      <th>0</th>\n",
       "      <td>skoda</td>\n",
       "      <td>Czech Republic</td>\n",
       "    </tr>\n",
       "    <tr>\n",
       "      <th>1</th>\n",
       "      <td>vauxhall</td>\n",
       "      <td>United Kingdom</td>\n",
       "    </tr>\n",
       "    <tr>\n",
       "      <th>2</th>\n",
       "      <td>hyundai</td>\n",
       "      <td>South Korea</td>\n",
       "    </tr>\n",
       "    <tr>\n",
       "      <th>3</th>\n",
       "      <td>mini</td>\n",
       "      <td>United Kingdom</td>\n",
       "    </tr>\n",
       "    <tr>\n",
       "      <th>4</th>\n",
       "      <td>ford</td>\n",
       "      <td>United States</td>\n",
       "    </tr>\n",
       "  </tbody>\n",
       "</table>\n",
       "</div>"
      ],
      "text/plain": [
       "      title         country\n",
       "0     skoda  Czech Republic\n",
       "1  vauxhall  United Kingdom\n",
       "2   hyundai     South Korea\n",
       "3      mini  United Kingdom\n",
       "4      ford   United States"
      ]
     },
     "execution_count": 6,
     "metadata": {},
     "output_type": "execute_result"
    }
   ],
   "source": [
    "brand_df.head()"
   ]
  },
  {
   "cell_type": "code",
   "execution_count": 7,
   "id": "83e39003",
   "metadata": {},
   "outputs": [
    {
     "data": {
      "text/plain": [
       "(48, 2)"
      ]
     },
     "execution_count": 7,
     "metadata": {},
     "output_type": "execute_result"
    }
   ],
   "source": [
    "brand_df.shape"
   ]
  },
  {
   "cell_type": "markdown",
   "id": "9897b398",
   "metadata": {},
   "source": [
    "### 주 데이터는 cars.csv이며, 보조자료로 brand.csv도 준비되어있으니 함께 활용해보세요.\n",
    "### 이번 프로젝트에서는 \"중고차 가격 예측 모델\"을 가정하여 데이터를 준비해볼 수도 있고, \"중고차 특성에 따른 클러스터링\"을 가정하여 데이터를 준비해볼 수도 있습니다."
   ]
  },
  {
   "cell_type": "markdown",
   "id": "46497e67",
   "metadata": {},
   "source": [
    "* 1. cars.csv와 brand.csv의 데이터 합치기\n",
    "* [힌트] cars.csv의 title 변수로부터 브랜드 데이터를 추출할 수 있습니다."
   ]
  },
  {
   "cell_type": "code",
   "execution_count": 8,
   "id": "0dc4b085",
   "metadata": {},
   "outputs": [
    {
     "data": {
      "text/html": [
       "<div>\n",
       "<style scoped>\n",
       "    .dataframe tbody tr th:only-of-type {\n",
       "        vertical-align: middle;\n",
       "    }\n",
       "\n",
       "    .dataframe tbody tr th {\n",
       "        vertical-align: top;\n",
       "    }\n",
       "\n",
       "    .dataframe thead th {\n",
       "        text-align: right;\n",
       "    }\n",
       "</style>\n",
       "<table border=\"1\" class=\"dataframe\">\n",
       "  <thead>\n",
       "    <tr style=\"text-align: right;\">\n",
       "      <th></th>\n",
       "      <th>Price</th>\n",
       "      <th>Mileage(miles)</th>\n",
       "      <th>Registration_Year</th>\n",
       "      <th>Previous Owners</th>\n",
       "      <th>Doors</th>\n",
       "      <th>Seats</th>\n",
       "    </tr>\n",
       "  </thead>\n",
       "  <tbody>\n",
       "    <tr>\n",
       "      <th>count</th>\n",
       "      <td>3687.000000</td>\n",
       "      <td>3.687000e+03</td>\n",
       "      <td>3687.000000</td>\n",
       "      <td>2276.000000</td>\n",
       "      <td>3662.000000</td>\n",
       "      <td>3652.000000</td>\n",
       "    </tr>\n",
       "    <tr>\n",
       "      <th>mean</th>\n",
       "      <td>5787.301058</td>\n",
       "      <td>8.132854e+04</td>\n",
       "      <td>2011.846216</td>\n",
       "      <td>2.807557</td>\n",
       "      <td>4.321409</td>\n",
       "      <td>4.900329</td>\n",
       "    </tr>\n",
       "    <tr>\n",
       "      <th>std</th>\n",
       "      <td>4480.629885</td>\n",
       "      <td>3.941718e+04</td>\n",
       "      <td>5.082387</td>\n",
       "      <td>1.546028</td>\n",
       "      <td>0.986760</td>\n",
       "      <td>0.577046</td>\n",
       "    </tr>\n",
       "    <tr>\n",
       "      <th>min</th>\n",
       "      <td>400.000000</td>\n",
       "      <td>1.000000e+00</td>\n",
       "      <td>1953.000000</td>\n",
       "      <td>1.000000</td>\n",
       "      <td>2.000000</td>\n",
       "      <td>2.000000</td>\n",
       "    </tr>\n",
       "    <tr>\n",
       "      <th>25%</th>\n",
       "      <td>2490.000000</td>\n",
       "      <td>5.698400e+04</td>\n",
       "      <td>2008.000000</td>\n",
       "      <td>2.000000</td>\n",
       "      <td>3.000000</td>\n",
       "      <td>5.000000</td>\n",
       "    </tr>\n",
       "    <tr>\n",
       "      <th>50%</th>\n",
       "      <td>4000.000000</td>\n",
       "      <td>8.000000e+04</td>\n",
       "      <td>2012.000000</td>\n",
       "      <td>3.000000</td>\n",
       "      <td>5.000000</td>\n",
       "      <td>5.000000</td>\n",
       "    </tr>\n",
       "    <tr>\n",
       "      <th>75%</th>\n",
       "      <td>7995.000000</td>\n",
       "      <td>1.030000e+05</td>\n",
       "      <td>2015.500000</td>\n",
       "      <td>4.000000</td>\n",
       "      <td>5.000000</td>\n",
       "      <td>5.000000</td>\n",
       "    </tr>\n",
       "    <tr>\n",
       "      <th>max</th>\n",
       "      <td>33900.000000</td>\n",
       "      <td>1.110100e+06</td>\n",
       "      <td>2025.000000</td>\n",
       "      <td>9.000000</td>\n",
       "      <td>5.000000</td>\n",
       "      <td>7.000000</td>\n",
       "    </tr>\n",
       "  </tbody>\n",
       "</table>\n",
       "</div>"
      ],
      "text/plain": [
       "              Price  Mileage(miles)  Registration_Year  Previous Owners  \\\n",
       "count   3687.000000    3.687000e+03        3687.000000      2276.000000   \n",
       "mean    5787.301058    8.132854e+04        2011.846216         2.807557   \n",
       "std     4480.629885    3.941718e+04           5.082387         1.546028   \n",
       "min      400.000000    1.000000e+00        1953.000000         1.000000   \n",
       "25%     2490.000000    5.698400e+04        2008.000000         2.000000   \n",
       "50%     4000.000000    8.000000e+04        2012.000000         3.000000   \n",
       "75%     7995.000000    1.030000e+05        2015.500000         4.000000   \n",
       "max    33900.000000    1.110100e+06        2025.000000         9.000000   \n",
       "\n",
       "             Doors        Seats  \n",
       "count  3662.000000  3652.000000  \n",
       "mean      4.321409     4.900329  \n",
       "std       0.986760     0.577046  \n",
       "min       2.000000     2.000000  \n",
       "25%       3.000000     5.000000  \n",
       "50%       5.000000     5.000000  \n",
       "75%       5.000000     5.000000  \n",
       "max       5.000000     7.000000  "
      ]
     },
     "execution_count": 8,
     "metadata": {},
     "output_type": "execute_result"
    }
   ],
   "source": [
    "df_merge = pd.merge(car_df, brand_df, on='title',how='outer') \n",
    "df_merge1 = df_merge.copy()\n",
    "df_merge.describe()"
   ]
  },
  {
   "cell_type": "code",
   "execution_count": 9,
   "id": "6cfa70cf",
   "metadata": {},
   "outputs": [
    {
     "data": {
      "text/plain": [
       "title                 object\n",
       "Price                float64\n",
       "Mileage(miles)       float64\n",
       "Registration_Year    float64\n",
       "Previous Owners      float64\n",
       "Fuel type             object\n",
       "Body type             object\n",
       "Engine                object\n",
       "Gearbox               object\n",
       "Doors                float64\n",
       "Seats                float64\n",
       "Emission Class        object\n",
       "Service history       object\n",
       "country               object\n",
       "dtype: object"
      ]
     },
     "execution_count": 9,
     "metadata": {},
     "output_type": "execute_result"
    }
   ],
   "source": [
    "df_merge.dtypes"
   ]
  },
  {
   "cell_type": "code",
   "execution_count": 10,
   "id": "d53faf92",
   "metadata": {},
   "outputs": [
    {
     "data": {
      "text/plain": [
       "(array([1.651e+03, 9.760e+02, 4.650e+02, 3.310e+02, 1.670e+02, 7.700e+01,\n",
       "        1.000e+01, 7.000e+00, 2.000e+00, 1.000e+00]),\n",
       " array([  400.,  3750.,  7100., 10450., 13800., 17150., 20500., 23850.,\n",
       "        27200., 30550., 33900.]),\n",
       " <BarContainer object of 10 artists>)"
      ]
     },
     "execution_count": 10,
     "metadata": {},
     "output_type": "execute_result"
    },
    {
     "data": {
      "image/png": "[encoded data removed]",
      "text/plain": [
       "<Figure size 432x288 with 1 Axes>"
      ]
     },
     "metadata": {
      "needs_background": "light"
     },
     "output_type": "display_data"
    }
   ],
   "source": [
    "# Price 이상치 있는지 분포 확인\n",
    "import matplotlib.pyplot as plt\n",
    "plt.hist(df_merge['Price']) "
   ]
  },
  {
   "cell_type": "markdown",
   "id": "1ace1359",
   "metadata": {},
   "source": [
    "* 2. 카테고리형 변수를 숫자 형태로 변환하기\n",
    "* [힌트] Engine, Emission Class 변수에 주목하세요!"
   ]
  },
  {
   "cell_type": "code",
   "execution_count": 11,
   "id": "997651eb",
   "metadata": {},
   "outputs": [],
   "source": [
    "df_merge['Engine'] = df_merge['Engine'].str.replace('L', '')\n",
    "df_merge['Engine'] = df_merge['Engine'].astype(float)"
   ]
  },
  {
   "cell_type": "markdown",
   "id": "c24fa7f4",
   "metadata": {},
   "source": [
    "* 3. 결측치 처리하기\n",
    "* [힌트] Service history 변수의 결측치는 'Unknown'으로 채우고, 결측치 변수가 일정 개수 이상 포함된 데이터는 제거합니다."
   ]
  },
  {
   "cell_type": "code",
   "execution_count": 12,
   "id": "1dc0e471",
   "metadata": {},
   "outputs": [],
   "source": [
    "# 결측치 변수 비중이 0.9이 넘는 'country' 데이터는 삭제\n",
    "df_merge = df_merge.drop('country', axis=1)\n",
    "\n",
    "# Service history 변수의 결측치는 'Unknown'으로 채우기\n",
    "df_merge['Service history'] = df_merge['Service history'].fillna('Unknown')"
   ]
  },
  {
   "cell_type": "code",
   "execution_count": 13,
   "id": "ee866fa5",
   "metadata": {
    "scrolled": true
   },
   "outputs": [],
   "source": [
    "# Price 결측치는 평균으로 채우기\n",
    "df_merge['Price'] = df_merge['Price'].fillna(df_merge['Price'].mean())\n",
    "\n",
    "# Mileage(miles) 결측치는 평균으로 채우기\n",
    "df_merge['Mileage(miles)'] = df_merge['Mileage(miles)'].fillna(df_merge['Mileage(miles)'].mean())\n",
    "\n",
    "# Registration_Year 결측치 평균으로 채우기\n",
    "df_merge['Registration_Year'] = df_merge['Registration_Year'].fillna(df_merge['Registration_Year'].mean())\n",
    "\n",
    "# Previous Owners 결측치는 평균으로 채우기\n",
    "df_merge['Previous Owners'] = df_merge['Previous Owners'].fillna(df_merge['Previous Owners'].mean())\n",
    "\n",
    "# Engine 결측치는 최빈값으로 채우기(범주형 변수라서)\n",
    "df_merge['Engine'] = df_merge['Engine'].fillna(df_merge['Engine'].mode()[0])\n",
    "\n",
    "# Fuel type 결측치는 최빈값으로 채우기(범주형 변수라서)\n",
    "df_merge['Fuel type'] = df_merge['Fuel type'].fillna(df_merge['Fuel type'].mode()[0])\n",
    "\n",
    "# Body type 결측치는 최빈값으로 채우기(범주형 변수라서)\n",
    "df_merge['Body type'] = df_merge['Body type'].fillna(df_merge['Body type'].mode()[0])\n",
    "\n",
    "# Gearbox 결측치는 최빈값으로 채우기(범주형 변수라서)\n",
    "df_merge['Gearbox'] = df_merge['Gearbox'].fillna(df_merge['Gearbox'].mode()[0])\n",
    "\n",
    "# Doors 결측치는 최빈값으로 채우기(범주형 변수라서)\n",
    "df_merge['Doors'] = df_merge['Doors'].fillna(df_merge['Doors'].mode()[0])\n",
    "\n",
    "# Seats 결측치는 최빈값으로 채우기(범주형 변수라서)\n",
    "df_merge['Seats'] = df_merge['Seats'].fillna(df_merge['Seats'].mode()[0])\n",
    "\n",
    "# Emission Class 결측치는 최빈값으로 채우기(범주형 변수라서)\n",
    "df_merge['Emission Class'] = df_merge['Emission Class'].fillna(df_merge['Emission Class'].mode()[0])"
   ]
  },
  {
   "cell_type": "code",
   "execution_count": 14,
   "id": "cbb6675b",
   "metadata": {},
   "outputs": [
    {
     "data": {
      "text/plain": [
       "title                0\n",
       "Price                0\n",
       "Mileage(miles)       0\n",
       "Registration_Year    0\n",
       "Previous Owners      0\n",
       "Fuel type            0\n",
       "Body type            0\n",
       "Engine               0\n",
       "Gearbox              0\n",
       "Doors                0\n",
       "Seats                0\n",
       "Emission Class       0\n",
       "Service history      0\n",
       "dtype: int64"
      ]
     },
     "execution_count": 14,
     "metadata": {},
     "output_type": "execute_result"
    }
   ],
   "source": [
    "df_merge.isnull().sum()"
   ]
  },
  {
   "cell_type": "markdown",
   "id": "7cba6660",
   "metadata": {},
   "source": [
    "* 4. Scaler 활용해보기"
   ]
  },
  {
   "cell_type": "code",
   "execution_count": 15,
   "id": "4c52a4c4",
   "metadata": {},
   "outputs": [
    {
     "data": {
      "text/plain": [
       "title                 object\n",
       "Price                float64\n",
       "Mileage(miles)       float64\n",
       "Registration_Year    float64\n",
       "Previous Owners      float64\n",
       "Fuel type             object\n",
       "Body type             object\n",
       "Engine               float64\n",
       "Gearbox               object\n",
       "Doors                float64\n",
       "Seats                float64\n",
       "Emission Class        object\n",
       "Service history       object\n",
       "dtype: object"
      ]
     },
     "execution_count": 15,
     "metadata": {},
     "output_type": "execute_result"
    }
   ],
   "source": [
    "# 데이터 타입 확인\n",
    "df_merge.dtypes"
   ]
  },
  {
   "cell_type": "code",
   "execution_count": 16,
   "id": "868fab43",
   "metadata": {},
   "outputs": [],
   "source": [
    "# 'title'은 불필요한 정보이므로 삭제\n",
    "df_merge = df_merge.drop(columns=['title']) \n",
    "\n",
    "# 각 범주형 변수 'Fuel type', 'Body type', 'Gearbox', 'Emission Class', 'Service history'는 더미변수로 만들기\n",
    "df_merge_dummies = pd.get_dummies(df_merge, columns=['Fuel type', 'Body type', 'Gearbox', 'Emission Class', 'Service history'])"
   ]
  },
  {
   "cell_type": "code",
   "execution_count": 17,
   "id": "ecd582a2",
   "metadata": {},
   "outputs": [
    {
     "name": "stdout",
     "output_type": "stream",
     "text": [
      "            Price  Mileage(miles)  Registration_Year  Previous Owners  Engine  \\\n",
      "0     6900.000000    70189.000000        2016.000000         3.000000     1.4   \n",
      "1     6900.000000    70189.000000        2016.000000         3.000000     1.4   \n",
      "2     1990.000000   150000.000000        2007.000000         2.000000     1.9   \n",
      "3     1995.000000    84000.000000        2008.000000         2.807557     1.4   \n",
      "4     2495.000000   124138.000000        2011.000000         3.000000     1.2   \n",
      "...           ...             ...                ...              ...     ...   \n",
      "3730  5787.301058    81328.536751        2011.846216         2.807557     1.6   \n",
      "3731  5787.301058    81328.536751        2011.846216         2.807557     1.6   \n",
      "3732  5787.301058    81328.536751        2011.846216         2.807557     1.6   \n",
      "3733  5787.301058    81328.536751        2011.846216         2.807557     1.6   \n",
      "3734  5787.301058    81328.536751        2011.846216         2.807557     1.6   \n",
      "\n",
      "      Doors  Seats  Fuel type_Diesel  Fuel type_Diesel Hybrid  \\\n",
      "0       5.0    5.0                 1                        0   \n",
      "1       5.0    5.0                 1                        0   \n",
      "2       5.0    5.0                 1                        0   \n",
      "3       5.0    5.0                 0                        0   \n",
      "4       5.0    5.0                 0                        0   \n",
      "...     ...    ...               ...                      ...   \n",
      "3730    5.0    5.0                 0                        0   \n",
      "3731    5.0    5.0                 0                        0   \n",
      "3732    5.0    5.0                 0                        0   \n",
      "3733    5.0    5.0                 0                        0   \n",
      "3734    5.0    5.0                 0                        0   \n",
      "\n",
      "      Fuel type_Electric  ...  Gearbox_Automatic  Gearbox_Manual  \\\n",
      "0                      0  ...                  0               1   \n",
      "1                      0  ...                  0               1   \n",
      "2                      0  ...                  0               1   \n",
      "3                      0  ...                  0               1   \n",
      "4                      0  ...                  1               0   \n",
      "...                  ...  ...                ...             ...   \n",
      "3730                   0  ...                  0               1   \n",
      "3731                   0  ...                  0               1   \n",
      "3732                   0  ...                  0               1   \n",
      "3733                   0  ...                  0               1   \n",
      "3734                   0  ...                  0               1   \n",
      "\n",
      "      Emission Class_Euro 1  Emission Class_Euro 2  Emission Class_Euro 3  \\\n",
      "0                         0                      0                      0   \n",
      "1                         0                      0                      0   \n",
      "2                         0                      0                      0   \n",
      "3                         0                      0                      0   \n",
      "4                         0                      0                      0   \n",
      "...                     ...                    ...                    ...   \n",
      "3730                      0                      0                      0   \n",
      "3731                      0                      0                      0   \n",
      "3732                      0                      0                      0   \n",
      "3733                      0                      0                      0   \n",
      "3734                      0                      0                      0   \n",
      "\n",
      "      Emission Class_Euro 4  Emission Class_Euro 5  Emission Class_Euro 6  \\\n",
      "0                         0                      0                      1   \n",
      "1                         0                      0                      1   \n",
      "2                         1                      0                      0   \n",
      "3                         1                      0                      0   \n",
      "4                         0                      1                      0   \n",
      "...                     ...                    ...                    ...   \n",
      "3730                      0                      1                      0   \n",
      "3731                      0                      1                      0   \n",
      "3732                      0                      1                      0   \n",
      "3733                      0                      1                      0   \n",
      "3734                      0                      1                      0   \n",
      "\n",
      "      Service history_Full  Service history_Unknown  \n",
      "0                        0                        1  \n",
      "1                        0                        1  \n",
      "2                        1                        0  \n",
      "3                        0                        1  \n",
      "4                        0                        1  \n",
      "...                    ...                      ...  \n",
      "3730                     0                        1  \n",
      "3731                     0                        1  \n",
      "3732                     0                        1  \n",
      "3733                     0                        1  \n",
      "3734                     0                        1  \n",
      "\n",
      "[3735 rows x 33 columns]\n"
     ]
    }
   ],
   "source": [
    "print(df_merge_dummies)"
   ]
  },
  {
   "cell_type": "code",
   "execution_count": 18,
   "id": "3bc8efd6",
   "metadata": {},
   "outputs": [],
   "source": [
    "import numpy as np\n",
    "from sklearn.preprocessing import StandardScaler\n",
    "from sklearn.decomposition import PCA\n",
    "\n",
    "# 데이터 표준화\n",
    "df_x = df_merge_dummies.drop(['Price'], axis=1)\n",
    "scaler = StandardScaler()\n",
    "scaled_x = scaler.fit_transform(df_x)"
   ]
  },
  {
   "cell_type": "markdown",
   "id": "dcb5c575",
   "metadata": {},
   "source": [
    "* 5. 기존 데이터의 정보 70% 이상을 가지는 수준에서 최소한의 주성분 추출 (PCA)"
   ]
  },
  {
   "cell_type": "code",
   "execution_count": 19,
   "id": "868be3e7",
   "metadata": {
    "scrolled": true
   },
   "outputs": [],
   "source": [
    "# PCA 적용\n",
    "pca = PCA(n_components=0.70)\n",
    "x_pca = pca.fit_transform(df_x)"
   ]
  },
  {
   "cell_type": "code",
   "execution_count": 20,
   "id": "4fa81b47",
   "metadata": {},
   "outputs": [
    {
     "name": "stdout",
     "output_type": "stream",
     "text": [
      "               PC1\n",
      "0    -11139.536956\n",
      "1    -11139.536956\n",
      "2     68671.463403\n",
      "3      2671.463448\n",
      "4     42809.463232\n",
      "...            ...\n",
      "3730     -0.000002\n",
      "3731     -0.000002\n",
      "3732     -0.000002\n",
      "3733     -0.000002\n",
      "3734     -0.000002\n",
      "\n",
      "[3735 rows x 1 columns]\n",
      "Explained Variance Ratio: [0.99999998]\n",
      "Number of components selected: 1\n"
     ]
    }
   ],
   "source": [
    "# 주성분 분석 결과를 데이터프레임으로 변환\n",
    "df_pca = pd.DataFrame(x_pca, columns=[f'PC{i+1}' for i in range(x_pca.shape[1])])\n",
    "\n",
    "print(df_pca)\n",
    "print(f\"Explained Variance Ratio: {pca.explained_variance_ratio_}\")\n",
    "print(f\"Number of components selected: {pca.n_components_}\")"
   ]
  },
  {
   "cell_type": "markdown",
   "id": "72e8ac8e",
   "metadata": {},
   "source": [
    "* add) 1. 국가별 총 브랜드 개수는?"
   ]
  },
  {
   "cell_type": "code",
   "execution_count": 21,
   "id": "4d1bad61",
   "metadata": {},
   "outputs": [
    {
     "name": "stdout",
     "output_type": "stream",
     "text": [
      "country\n",
      "Czech Republic     1\n",
      "France             4\n",
      "Germany            6\n",
      "Italy              4\n",
      "Japan             11\n",
      "Malaysia           1\n",
      "Romania            1\n",
      "South Korea        4\n",
      "Spain              1\n",
      "Sweden             2\n",
      "United Kingdom     8\n",
      "United States      5\n",
      "Name: title, dtype: int64\n"
     ]
    }
   ],
   "source": [
    "brand = df_merge1.groupby('country')['title'].count()\n",
    "print(brand)"
   ]
  },
  {
   "cell_type": "markdown",
   "id": "201afe24",
   "metadata": {},
   "source": [
    "* add) 2. 상관관계가 높은 변수들이 있는지 확인해보세요."
   ]
  },
  {
   "cell_type": "code",
   "execution_count": 22,
   "id": "70a705ca",
   "metadata": {},
   "outputs": [
    {
     "data": {
      "text/html": [
       "<div>\n",
       "<style scoped>\n",
       "    .dataframe tbody tr th:only-of-type {\n",
       "        vertical-align: middle;\n",
       "    }\n",
       "\n",
       "    .dataframe tbody tr th {\n",
       "        vertical-align: top;\n",
       "    }\n",
       "\n",
       "    .dataframe thead th {\n",
       "        text-align: right;\n",
       "    }\n",
       "</style>\n",
       "<table border=\"1\" class=\"dataframe\">\n",
       "  <thead>\n",
       "    <tr style=\"text-align: right;\">\n",
       "      <th></th>\n",
       "      <th>Price</th>\n",
       "      <th>Mileage(miles)</th>\n",
       "      <th>Registration_Year</th>\n",
       "      <th>Previous Owners</th>\n",
       "      <th>Doors</th>\n",
       "      <th>Seats</th>\n",
       "    </tr>\n",
       "  </thead>\n",
       "  <tbody>\n",
       "    <tr>\n",
       "      <th>Price</th>\n",
       "      <td>1.000000</td>\n",
       "      <td>-0.500358</td>\n",
       "      <td>0.722971</td>\n",
       "      <td>-0.479424</td>\n",
       "      <td>0.113335</td>\n",
       "      <td>-0.027393</td>\n",
       "    </tr>\n",
       "    <tr>\n",
       "      <th>Mileage(miles)</th>\n",
       "      <td>-0.500358</td>\n",
       "      <td>1.000000</td>\n",
       "      <td>-0.410781</td>\n",
       "      <td>0.316160</td>\n",
       "      <td>-0.037024</td>\n",
       "      <td>0.095271</td>\n",
       "    </tr>\n",
       "    <tr>\n",
       "      <th>Registration_Year</th>\n",
       "      <td>0.722971</td>\n",
       "      <td>-0.410781</td>\n",
       "      <td>1.000000</td>\n",
       "      <td>-0.501045</td>\n",
       "      <td>0.219365</td>\n",
       "      <td>0.037166</td>\n",
       "    </tr>\n",
       "    <tr>\n",
       "      <th>Previous Owners</th>\n",
       "      <td>-0.479424</td>\n",
       "      <td>0.316160</td>\n",
       "      <td>-0.501045</td>\n",
       "      <td>1.000000</td>\n",
       "      <td>-0.153262</td>\n",
       "      <td>-0.029338</td>\n",
       "    </tr>\n",
       "    <tr>\n",
       "      <th>Doors</th>\n",
       "      <td>0.113335</td>\n",
       "      <td>-0.037024</td>\n",
       "      <td>0.219365</td>\n",
       "      <td>-0.153262</td>\n",
       "      <td>1.000000</td>\n",
       "      <td>0.497160</td>\n",
       "    </tr>\n",
       "    <tr>\n",
       "      <th>Seats</th>\n",
       "      <td>-0.027393</td>\n",
       "      <td>0.095271</td>\n",
       "      <td>0.037166</td>\n",
       "      <td>-0.029338</td>\n",
       "      <td>0.497160</td>\n",
       "      <td>1.000000</td>\n",
       "    </tr>\n",
       "  </tbody>\n",
       "</table>\n",
       "</div>"
      ],
      "text/plain": [
       "                      Price  Mileage(miles)  Registration_Year  \\\n",
       "Price              1.000000       -0.500358           0.722971   \n",
       "Mileage(miles)    -0.500358        1.000000          -0.410781   \n",
       "Registration_Year  0.722971       -0.410781           1.000000   \n",
       "Previous Owners   -0.479424        0.316160          -0.501045   \n",
       "Doors              0.113335       -0.037024           0.219365   \n",
       "Seats             -0.027393        0.095271           0.037166   \n",
       "\n",
       "                   Previous Owners     Doors     Seats  \n",
       "Price                    -0.479424  0.113335 -0.027393  \n",
       "Mileage(miles)            0.316160 -0.037024  0.095271  \n",
       "Registration_Year        -0.501045  0.219365  0.037166  \n",
       "Previous Owners           1.000000 -0.153262 -0.029338  \n",
       "Doors                    -0.153262  1.000000  0.497160  \n",
       "Seats                    -0.029338  0.497160  1.000000  "
      ]
     },
     "execution_count": 22,
     "metadata": {},
     "output_type": "execute_result"
    }
   ],
   "source": [
    "df_merge1.corr()"
   ]
  },
  {
   "cell_type": "code",
   "execution_count": 23,
   "id": "edf94542",
   "metadata": {},
   "outputs": [],
   "source": [
    "# 회고\n",
    "# 배웠던 내용을 바탕으로 실습을 자율적으로 해보니까 생각보다 더 어려웠습니다. 원-핫 인코딩과 주성분 분석 개념이 특히 어려운 것 같습니다."
   ]
  },
  {
   "cell_type": "code",
   "execution_count": null,
   "id": "d80fab5e",
   "metadata": {},
   "outputs": [],
   "source": []
  }
 ],
 "metadata": {
  "kernelspec": {
   "display_name": "Python 3 (ipykernel)",
   "language": "python",
   "name": "python3"
  },
  "language_info": {
   "codemirror_mode": {
    "name": "ipython",
    "version": 3
   },
   "file_extension": ".py",
   "mimetype": "text/x-python",
   "name": "python",
   "nbconvert_exporter": "python",
   "pygments_lexer": "ipython3",
   "version": "3.9.7"
  }
 },
 "nbformat": 4,
 "nbformat_minor": 5
}
