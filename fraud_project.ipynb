{
 "cells": [
  {
   "cell_type": "markdown",
   "id": "93ed7e00",
   "metadata": {},
   "source": [
    "* 신용카드 이상감지 모델을 만들기 위한 데이터이며, is_fraud가 사기거래 여부를 나타내는 변수입니다.\n",
    "* 최종적으로 사기거래 여부를 예측하기 위한 데이터를 준비해보세요."
   ]
  },
  {
   "cell_type": "code",
   "execution_count": 2,
   "id": "8d085792",
   "metadata": {},
   "outputs": [],
   "source": [
    "import pandas as pd\n",
    "import numpy as np\n",
    "\n",
    "df = pd.read_csv('fraud.csv')"
   ]
  },
  {
   "cell_type": "code",
   "execution_count": 2,
   "id": "f19f2c42",
   "metadata": {},
   "outputs": [
    {
     "name": "stdout",
     "output_type": "stream",
     "text": [
      "<class 'pandas.core.frame.DataFrame'>\n",
      "RangeIndex: 491134 entries, 0 to 491133\n",
      "Data columns (total 22 columns):\n",
      " #   Column                 Non-Null Count   Dtype  \n",
      "---  ------                 --------------   -----  \n",
      " 0   trans_date_trans_time  491134 non-null  object \n",
      " 1   cc_num                 491134 non-null  float64\n",
      " 2   merchant               491134 non-null  object \n",
      " 3   category               491134 non-null  object \n",
      " 4   amt                    491134 non-null  float64\n",
      " 5   first                  491134 non-null  object \n",
      " 6   last                   491134 non-null  object \n",
      " 7   gender                 491134 non-null  object \n",
      " 8   street                 491134 non-null  object \n",
      " 9   city                   491134 non-null  object \n",
      " 10  state                  491134 non-null  object \n",
      " 11  zip                    491134 non-null  int64  \n",
      " 12  lat                    491134 non-null  float64\n",
      " 13  long                   491134 non-null  float64\n",
      " 14  city_pop               491134 non-null  int64  \n",
      " 15  job                    491134 non-null  object \n",
      " 16  dob                    491134 non-null  object \n",
      " 17  trans_num              491134 non-null  object \n",
      " 18  unix_time              491134 non-null  int64  \n",
      " 19  merch_lat              491134 non-null  float64\n",
      " 20  merch_long             491134 non-null  float64\n",
      " 21  is_fraud               491134 non-null  int64  \n",
      "dtypes: float64(6), int64(4), object(12)\n",
      "memory usage: 82.4+ MB\n"
     ]
    }
   ],
   "source": [
    "df.info()"
   ]
  },
  {
   "cell_type": "code",
   "execution_count": 3,
   "id": "02c66b29",
   "metadata": {},
   "outputs": [
    {
     "data": {
      "text/html": [
       "<div>\n",
       "<style scoped>\n",
       "    .dataframe tbody tr th:only-of-type {\n",
       "        vertical-align: middle;\n",
       "    }\n",
       "\n",
       "    .dataframe tbody tr th {\n",
       "        vertical-align: top;\n",
       "    }\n",
       "\n",
       "    .dataframe thead th {\n",
       "        text-align: right;\n",
       "    }\n",
       "</style>\n",
       "<table border=\"1\" class=\"dataframe\">\n",
       "  <thead>\n",
       "    <tr style=\"text-align: right;\">\n",
       "      <th></th>\n",
       "      <th>cc_num</th>\n",
       "      <th>amt</th>\n",
       "      <th>zip</th>\n",
       "      <th>lat</th>\n",
       "      <th>long</th>\n",
       "      <th>city_pop</th>\n",
       "      <th>unix_time</th>\n",
       "      <th>merch_lat</th>\n",
       "      <th>merch_long</th>\n",
       "      <th>is_fraud</th>\n",
       "    </tr>\n",
       "  </thead>\n",
       "  <tbody>\n",
       "    <tr>\n",
       "      <th>count</th>\n",
       "      <td>4.911340e+05</td>\n",
       "      <td>491134.000000</td>\n",
       "      <td>491134.000000</td>\n",
       "      <td>491134.000000</td>\n",
       "      <td>491134.000000</td>\n",
       "      <td>4.911340e+05</td>\n",
       "      <td>4.911340e+05</td>\n",
       "      <td>491134.000000</td>\n",
       "      <td>491134.000000</td>\n",
       "      <td>491134.000000</td>\n",
       "    </tr>\n",
       "    <tr>\n",
       "      <th>mean</th>\n",
       "      <td>3.706014e+17</td>\n",
       "      <td>69.050120</td>\n",
       "      <td>50770.532384</td>\n",
       "      <td>37.931230</td>\n",
       "      <td>-90.495619</td>\n",
       "      <td>1.213922e+05</td>\n",
       "      <td>1.358730e+09</td>\n",
       "      <td>37.930272</td>\n",
       "      <td>-90.495411</td>\n",
       "      <td>0.002533</td>\n",
       "    </tr>\n",
       "    <tr>\n",
       "      <th>std</th>\n",
       "      <td>1.260229e+18</td>\n",
       "      <td>160.322867</td>\n",
       "      <td>26854.947965</td>\n",
       "      <td>5.341193</td>\n",
       "      <td>12.990732</td>\n",
       "      <td>3.725751e+05</td>\n",
       "      <td>1.819402e+07</td>\n",
       "      <td>5.372986</td>\n",
       "      <td>13.004100</td>\n",
       "      <td>0.050264</td>\n",
       "    </tr>\n",
       "    <tr>\n",
       "      <th>min</th>\n",
       "      <td>5.038740e+11</td>\n",
       "      <td>1.000000</td>\n",
       "      <td>1843.000000</td>\n",
       "      <td>24.655700</td>\n",
       "      <td>-122.345600</td>\n",
       "      <td>4.600000e+01</td>\n",
       "      <td>1.325376e+09</td>\n",
       "      <td>23.655789</td>\n",
       "      <td>-123.345106</td>\n",
       "      <td>0.000000</td>\n",
       "    </tr>\n",
       "    <tr>\n",
       "      <th>25%</th>\n",
       "      <td>2.131120e+14</td>\n",
       "      <td>8.960000</td>\n",
       "      <td>28405.000000</td>\n",
       "      <td>33.746700</td>\n",
       "      <td>-97.235100</td>\n",
       "      <td>1.228000e+03</td>\n",
       "      <td>1.343087e+09</td>\n",
       "      <td>33.781388</td>\n",
       "      <td>-96.984814</td>\n",
       "      <td>0.000000</td>\n",
       "    </tr>\n",
       "    <tr>\n",
       "      <th>50%</th>\n",
       "      <td>3.531130e+15</td>\n",
       "      <td>42.170000</td>\n",
       "      <td>49628.000000</td>\n",
       "      <td>38.507200</td>\n",
       "      <td>-87.591700</td>\n",
       "      <td>5.760000e+03</td>\n",
       "      <td>1.357257e+09</td>\n",
       "      <td>38.545124</td>\n",
       "      <td>-87.573441</td>\n",
       "      <td>0.000000</td>\n",
       "    </tr>\n",
       "    <tr>\n",
       "      <th>75%</th>\n",
       "      <td>4.653880e+15</td>\n",
       "      <td>80.330000</td>\n",
       "      <td>75048.000000</td>\n",
       "      <td>41.520500</td>\n",
       "      <td>-80.731000</td>\n",
       "      <td>5.083500e+04</td>\n",
       "      <td>1.374626e+09</td>\n",
       "      <td>41.624294</td>\n",
       "      <td>-80.685567</td>\n",
       "      <td>0.000000</td>\n",
       "    </tr>\n",
       "    <tr>\n",
       "      <th>max</th>\n",
       "      <td>4.956830e+18</td>\n",
       "      <td>25086.940000</td>\n",
       "      <td>99323.000000</td>\n",
       "      <td>48.887800</td>\n",
       "      <td>-69.965600</td>\n",
       "      <td>2.906700e+06</td>\n",
       "      <td>1.388534e+09</td>\n",
       "      <td>49.887523</td>\n",
       "      <td>-68.965624</td>\n",
       "      <td>1.000000</td>\n",
       "    </tr>\n",
       "  </tbody>\n",
       "</table>\n",
       "</div>"
      ],
      "text/plain": [
       "             cc_num            amt            zip            lat  \\\n",
       "count  4.911340e+05  491134.000000  491134.000000  491134.000000   \n",
       "mean   3.706014e+17      69.050120   50770.532384      37.931230   \n",
       "std    1.260229e+18     160.322867   26854.947965       5.341193   \n",
       "min    5.038740e+11       1.000000    1843.000000      24.655700   \n",
       "25%    2.131120e+14       8.960000   28405.000000      33.746700   \n",
       "50%    3.531130e+15      42.170000   49628.000000      38.507200   \n",
       "75%    4.653880e+15      80.330000   75048.000000      41.520500   \n",
       "max    4.956830e+18   25086.940000   99323.000000      48.887800   \n",
       "\n",
       "                long      city_pop     unix_time      merch_lat  \\\n",
       "count  491134.000000  4.911340e+05  4.911340e+05  491134.000000   \n",
       "mean      -90.495619  1.213922e+05  1.358730e+09      37.930272   \n",
       "std        12.990732  3.725751e+05  1.819402e+07       5.372986   \n",
       "min      -122.345600  4.600000e+01  1.325376e+09      23.655789   \n",
       "25%       -97.235100  1.228000e+03  1.343087e+09      33.781388   \n",
       "50%       -87.591700  5.760000e+03  1.357257e+09      38.545124   \n",
       "75%       -80.731000  5.083500e+04  1.374626e+09      41.624294   \n",
       "max       -69.965600  2.906700e+06  1.388534e+09      49.887523   \n",
       "\n",
       "          merch_long       is_fraud  \n",
       "count  491134.000000  491134.000000  \n",
       "mean      -90.495411       0.002533  \n",
       "std        13.004100       0.050264  \n",
       "min      -123.345106       0.000000  \n",
       "25%       -96.984814       0.000000  \n",
       "50%       -87.573441       0.000000  \n",
       "75%       -80.685567       0.000000  \n",
       "max       -68.965624       1.000000  "
      ]
     },
     "execution_count": 3,
     "metadata": {},
     "output_type": "execute_result"
    }
   ],
   "source": [
    "df.describe()"
   ]
  },
  {
   "cell_type": "code",
   "execution_count": 4,
   "id": "dcec028d",
   "metadata": {},
   "outputs": [
    {
     "data": {
      "image/png": "[encoded data removed]",
      "text/plain": [
       "<Figure size 864x576 with 12 Axes>"
      ]
     },
     "metadata": {
      "needs_background": "light"
     },
     "output_type": "display_data"
    }
   ],
   "source": [
    "import matplotlib.pyplot as plt\n",
    "df.hist(bins=50, figsize=(12,8))\n",
    "plt.show()\n",
    "# 아래 분포들로부터 알 수 있는 점들: 변수들의 스케일이 서로 많이 다름. 그리고 거래 금액인 'amt' 히스토그램에서 분포가 한쪽으로 많이 치우쳐져 있음.  "
   ]
  },
  {
   "cell_type": "code",
   "execution_count": 5,
   "id": "f2c7f124",
   "metadata": {},
   "outputs": [
    {
     "data": {
      "text/plain": [
       "258861        1.00\n",
       "254027        1.00\n",
       "469101        1.00\n",
       "257652        1.00\n",
       "172571        1.00\n",
       "            ...   \n",
       "43412     14630.68\n",
       "198719    15047.03\n",
       "410031    16837.08\n",
       "49446     17897.24\n",
       "93045     25086.94\n",
       "Name: amt, Length: 491134, dtype: float64"
      ]
     },
     "execution_count": 5,
     "metadata": {},
     "output_type": "execute_result"
    }
   ],
   "source": [
    "df['amt'].sort_values()\n",
    "# 'amt' 값에서 이상치 있는지 확인함. 이상치는 없는 것으로 확인됨"
   ]
  },
  {
   "cell_type": "code",
   "execution_count": 6,
   "id": "229ba6f3",
   "metadata": {},
   "outputs": [],
   "source": [
    "# 최소 2개 이상의 새로운 피처(변수)를 생성해봅시다.\n",
    "# [힌트] 구매 금액, 시간 등의 변수를 이용할 수 있습니다.\n",
    "# 새로운 피처 생성: 거래 금액의 로그 값을 생성함\n",
    "df['log_amt'] = np.log(df['amt'] + 1)"
   ]
  },
  {
   "cell_type": "code",
   "execution_count": 7,
   "id": "2e4989c7",
   "metadata": {},
   "outputs": [],
   "source": [
    "corr_matrix = df.corr()"
   ]
  },
  {
   "cell_type": "code",
   "execution_count": 8,
   "id": "f11f40f4",
   "metadata": {},
   "outputs": [
    {
     "data": {
      "text/plain": [
       "is_fraud      1.000000\n",
       "amt           0.128526\n",
       "log_amt       0.071859\n",
       "long          0.002771\n",
       "merch_long    0.002715\n",
       "merch_lat     0.000915\n",
       "lat           0.000827\n",
       "cc_num        0.000386\n",
       "zip          -0.003005\n",
       "city_pop     -0.005630\n",
       "unix_time    -0.008156\n",
       "Name: is_fraud, dtype: float64"
      ]
     },
     "execution_count": 8,
     "metadata": {},
     "output_type": "execute_result"
    }
   ],
   "source": [
    "corr_matrix[\"is_fraud\"].sort_values(ascending=False)"
   ]
  },
  {
   "cell_type": "code",
   "execution_count": 9,
   "id": "dcf97b7e",
   "metadata": {},
   "outputs": [],
   "source": [
    "# 'dob'를 연령로 변환\n",
    "from datetime import datetime\n",
    "\n",
    "df['dob'] = pd.to_datetime(df['dob'])\n",
    "current_year = datetime.now().year\n",
    "df['age'] = current_year - df['dob'].dt.year"
   ]
  },
  {
   "cell_type": "code",
   "execution_count": 10,
   "id": "efeb1a0d",
   "metadata": {},
   "outputs": [],
   "source": [
    "df['trans_date_trans_time'] = pd.to_datetime(df['trans_date_trans_time'])\n",
    "df['hour'] = df['trans_date_trans_time'].dt.hour\n",
    "#'trans_date_trans_time' 컬럼에서 시간 정보를 추출하여 새로운 'hour' 컬럼을 생성함"
   ]
  },
  {
   "cell_type": "code",
   "execution_count": 11,
   "id": "b4f7c798",
   "metadata": {},
   "outputs": [],
   "source": [
    "# 사기거래 여부를 예측하는 데 불필요한 컬럼을 제거합니다.\n",
    "df = df.drop(['first', 'last', 'street', 'trans_num','trans_date_trans_time', 'dob'], axis=1)\n",
    "# 'first', 'last', 'street', 'trans_num' 컬럼을 제거하는 이유: \n",
    "# 이름 정보는 개인 식별에 필요한 정보이지, 사기 거래 패턴을 분석하는 데는 유의미하지 않다고 판단함\n",
    "# 거리 정보는 사기 거래와 어느 정도 관련이 있을 수 있지만, 일반적으로 시(city)나 주(state) 정보로 충분히 반영할 수 있음\n",
    "# 거래 번호는 각 거래를 고유하게 식별하기 위한 정보로, 사기 거래 여부와는 직접적인 관련이 없음\n",
    "# 거래 일시는 'hour'로 정보 추출함\n",
    "# 생년월일은 개인 식별 정보로 '연령'으로 정보 추출함"
   ]
  },
  {
   "cell_type": "code",
   "execution_count": 12,
   "id": "93e9fa22",
   "metadata": {},
   "outputs": [
    {
     "data": {
      "image/png": "[encoded data removed]",
      "text/plain": [
       "<Figure size 864x432 with 1 Axes>"
      ]
     },
     "metadata": {
      "needs_background": "light"
     },
     "output_type": "display_data"
    }
   ],
   "source": [
    "# 시간대별 거래 수와 사기 거래 수를 계산\n",
    "hourly_counts = df.groupby('hour').size()\n",
    "fraud_counts = df[df['is_fraud'] == 1].groupby('hour').size()\n",
    "\n",
    "# 시간대별 사기 거래 비율을 계산\n",
    "fraud_ratio = fraud_counts / hourly_counts\n",
    "\n",
    "# 데이터프레임으로 정리\n",
    "fraud_ratio_df = fraud_ratio.reset_index(name='fraud_ratio').fillna(0)\n",
    "\n",
    "# 시간대별 사기 거래 비율 시각화\n",
    "import seaborn as sns\n",
    "plt.figure(figsize=(12, 6))\n",
    "sns.barplot(x='hour', y='fraud_ratio', data=fraud_ratio_df)\n",
    "plt.title('Fraud Ratio by Hour of Day')\n",
    "plt.xlabel('Hour of Day')\n",
    "plt.ylabel('Fraud Ratio')\n",
    "plt.show()\n",
    "\n",
    "# 시각화로부터 도출할 수 있는 점들:\n",
    "# 사기 거래는 22시~3시인 늦은 저녁 시간대와 이른 새벽 사이에 많이 일어남"
   ]
  },
  {
   "cell_type": "code",
   "execution_count": 13,
   "id": "b7de4d35",
   "metadata": {},
   "outputs": [
    {
     "name": "stderr",
     "output_type": "stream",
     "text": [
      "/opt/conda/lib/python3.9/site-packages/matplotlib/backends/backend_agg.py:240: RuntimeWarning: Glyph 44221 missing from current font.\n",
      "  font.set_text(s, 0.0, flags=flags)\n",
      "/opt/conda/lib/python3.9/site-packages/matplotlib/backends/backend_agg.py:240: RuntimeWarning: Glyph 46020 missing from current font.\n",
      "  font.set_text(s, 0.0, flags=flags)\n",
      "/opt/conda/lib/python3.9/site-packages/matplotlib/backends/backend_agg.py:240: RuntimeWarning: Glyph 50948 missing from current font.\n",
      "  font.set_text(s, 0.0, flags=flags)\n",
      "/opt/conda/lib/python3.9/site-packages/matplotlib/backends/backend_agg.py:203: RuntimeWarning: Glyph 44221 missing from current font.\n",
      "  font.set_text(s, 0, flags=flags)\n",
      "/opt/conda/lib/python3.9/site-packages/matplotlib/backends/backend_agg.py:203: RuntimeWarning: Glyph 46020 missing from current font.\n",
      "  font.set_text(s, 0, flags=flags)\n",
      "/opt/conda/lib/python3.9/site-packages/matplotlib/backends/backend_agg.py:203: RuntimeWarning: Glyph 50948 missing from current font.\n",
      "  font.set_text(s, 0, flags=flags)\n"
     ]
    },
    {
     "data": {
      "image/png": "[encoded data removed]",
      "text/plain": [
       "<Figure size 432x288 with 1 Axes>"
      ]
     },
     "metadata": {
      "needs_background": "light"
     },
     "output_type": "display_data"
    }
   ],
   "source": [
    "# 데이터의 위도/경도 정보를 활용해볼 수 있을까요?\n",
    "# 통계적 관점으로 접근하여 유용한 변수를 만들어낼 수 있을까요?\n",
    "df.plot(kind=\"scatter\",x=\"merch_long\", y=\"merch_lat\", grid=True, alpha=0.2)\n",
    "plt.xlabel(\"경도\")\n",
    "plt.ylabel(\"위도\")\n",
    "plt.show()\n",
    "# 경도와 위도간 상관관계가 높아보이지는 않음"
   ]
  },
  {
   "cell_type": "code",
   "execution_count": 14,
   "id": "942ba737",
   "metadata": {},
   "outputs": [
    {
     "data": {
      "text/plain": [
       "cc_num        0.0\n",
       "merchant      0.0\n",
       "category      0.0\n",
       "amt           0.0\n",
       "gender        0.0\n",
       "city          0.0\n",
       "state         0.0\n",
       "zip           0.0\n",
       "lat           0.0\n",
       "long          0.0\n",
       "city_pop      0.0\n",
       "job           0.0\n",
       "unix_time     0.0\n",
       "merch_lat     0.0\n",
       "merch_long    0.0\n",
       "is_fraud      0.0\n",
       "log_amt       0.0\n",
       "age           0.0\n",
       "hour          0.0\n",
       "dtype: float64"
      ]
     },
     "execution_count": 14,
     "metadata": {},
     "output_type": "execute_result"
    }
   ],
   "source": [
    "df.isnull().mean()\n",
    "# 결측치는 없음"
   ]
  },
  {
   "cell_type": "code",
   "execution_count": 15,
   "id": "0a4af763",
   "metadata": {},
   "outputs": [
    {
     "data": {
      "text/plain": [
       "cc_num        float64\n",
       "merchant       object\n",
       "category       object\n",
       "amt           float64\n",
       "gender         object\n",
       "city           object\n",
       "state          object\n",
       "zip             int64\n",
       "lat           float64\n",
       "long          float64\n",
       "city_pop        int64\n",
       "job            object\n",
       "unix_time       int64\n",
       "merch_lat     float64\n",
       "merch_long    float64\n",
       "is_fraud        int64\n",
       "log_amt       float64\n",
       "age             int64\n",
       "hour            int64\n",
       "dtype: object"
      ]
     },
     "execution_count": 15,
     "metadata": {},
     "output_type": "execute_result"
    }
   ],
   "source": [
    "df.dtypes"
   ]
  },
  {
   "cell_type": "code",
   "execution_count": 16,
   "id": "268b5a8c",
   "metadata": {},
   "outputs": [],
   "source": [
    "# 범주형 변수 선택\n",
    "categorical_cols = ['merchant', 'category', 'gender', 'city', 'state', 'job']"
   ]
  },
  {
   "cell_type": "code",
   "execution_count": null,
   "id": "ac9acbe6",
   "metadata": {},
   "outputs": [],
   "source": [
    "# OneHotEncoder 적용 \n",
    "from sklearn.preprocessing import OneHotEncoder\n",
    "\n",
    "onehot_encoder = OneHotEncoder(sparse=False)\n",
    "encoded_categorical = onehot_encoder.fit_transform(df[categorical_cols])"
   ]
  },
  {
   "cell_type": "code",
   "execution_count": null,
   "id": "39492e38",
   "metadata": {},
   "outputs": [],
   "source": [
    "encoded_categorical_df = pd.DataFrame(encoded_categorical, columns=onehot_encoder.get_feature_names_out(categorical_cols))\n",
    "encoded_categorical_df.reset_index(drop=True, inplace=True)"
   ]
  },
  {
   "cell_type": "code",
   "execution_count": null,
   "id": "c4bf362d",
   "metadata": {},
   "outputs": [],
   "source": [
    "# 원본 데이터에서 범주형 변수 제거 후 인코딩된 변수 추가\n",
    "df_encoded = pd.concat([df.drop(categorical_cols, axis=1).reset_index(drop=True), encoded_categorical_df], axis=1)\n",
    "\n",
    "print(df_encoded.head())"
   ]
  },
  {
   "cell_type": "code",
   "execution_count": null,
   "id": "f043561b",
   "metadata": {},
   "outputs": [],
   "source": [
    "from sklearn.preprocessing import StandardScaler\n",
    "\n",
    "std_scaler = StandardScaler()\n",
    "df_encoded_scaled = std_scaler.fit_transform(df_encoded.drop('is_fraud', axis=1))\n",
    "\n",
    "print(df_encoded_scaled[:5])\n",
    "\n",
    "# 스케일의 범위를 같게 만들어주기 위해 표준화 진행함"
   ]
  },
  {
   "cell_type": "code",
   "execution_count": null,
   "id": "4b6acd6a",
   "metadata": {},
   "outputs": [],
   "source": [
    "# 회고\n",
    "# 변수들간 스케일이 서로 많이 다르고 아직 제가 인사이트가 부족해서 그런지, 결과를 다양하게 도출해내지 못 한거 같습니다. 그리고 원핫인코딩을 잘 몰라서 어려웠습니다."
   ]
  },
  {
   "cell_type": "code",
   "execution_count": null,
   "id": "9af83e9a",
   "metadata": {},
   "outputs": [],
   "source": []
  }
 ],
 "metadata": {
  "kernelspec": {
   "display_name": "Python 3 (ipykernel)",
   "language": "python",
   "name": "python3"
  },
  "language_info": {
   "codemirror_mode": {
    "name": "ipython",
    "version": 3
   },
   "file_extension": ".py",
   "mimetype": "text/x-python",
   "name": "python",
   "nbconvert_exporter": "python",
   "pygments_lexer": "ipython3",
   "version": "3.9.7"
  }
 },
 "nbformat": 4,
 "nbformat_minor": 5
}
