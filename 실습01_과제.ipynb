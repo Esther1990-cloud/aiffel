{
  "nbformat": 4,
  "nbformat_minor": 0,
  "metadata": {
    "colab": {
      "provenance": [],
      "authorship_tag": "ABX9TyOrVuZyF2MMY6orXSG0XRE1",
      "include_colab_link": true
    },
    "kernelspec": {
      "name": "python3",
      "display_name": "Python 3"
    },
    "language_info": {
      "name": "python"
    }
  },
  "cells": [
    {
      "cell_type": "markdown",
      "metadata": {
        "id": "view-in-github",
        "colab_type": "text"
      },
      "source": [
        "<a href=\"https://colab.research.google.com/github/Esther1990-cloud/aiffel/blob/master/%EC%8B%A4%EC%8A%B501_%EA%B3%BC%EC%A0%9C.ipynb\" target=\"_parent\"><img src=\"https://colab.research.google.com/assets/colab-badge.svg\" alt=\"Open In Colab\"/></a>"
      ]
    },
    {
      "cell_type": "code",
      "execution_count": 3,
      "metadata": {
        "colab": {
          "base_uri": "https://localhost:8080/"
        },
        "id": "oLrUeOCtRiyZ",
        "outputId": "31564e67-47c5-42ee-d8f4-b9d4fa7a09de"
      },
      "outputs": [
        {
          "output_type": "stream",
          "name": "stdout",
          "text": [
            "Collecting ace_tools\n",
            "  Downloading ace_tools-0.0-py3-none-any.whl (1.1 kB)\n",
            "Installing collected packages: ace_tools\n",
            "Successfully installed ace_tools-0.0\n",
            "<class 'pandas.core.frame.DataFrame'>\n",
            "RangeIndex: 541909 entries, 0 to 541908\n",
            "Data columns (total 8 columns):\n",
            " #   Column       Non-Null Count   Dtype         \n",
            "---  ------       --------------   -----         \n",
            " 0   InvoiceNo    541909 non-null  object        \n",
            " 1   StockCode    541909 non-null  object        \n",
            " 2   Description  540455 non-null  object        \n",
            " 3   Quantity     541909 non-null  int64         \n",
            " 4   InvoiceDate  541909 non-null  datetime64[ns]\n",
            " 5   UnitPrice    541909 non-null  float64       \n",
            " 6   CustomerID   406829 non-null  float64       \n",
            " 7   Country      541909 non-null  object        \n",
            "dtypes: datetime64[ns](1), float64(2), int64(1), object(4)\n",
            "memory usage: 33.1+ MB\n",
            "None\n",
            "  InvoiceNo StockCode                          Description  Quantity  \\\n",
            "0    536365    85123A   WHITE HANGING HEART T-LIGHT HOLDER         6   \n",
            "1    536365     71053                  WHITE METAL LANTERN         6   \n",
            "2    536365    84406B       CREAM CUPID HEARTS COAT HANGER         8   \n",
            "3    536365    84029G  KNITTED UNION FLAG HOT WATER BOTTLE         6   \n",
            "4    536365    84029E       RED WOOLLY HOTTIE WHITE HEART.         6   \n",
            "\n",
            "          InvoiceDate  UnitPrice  CustomerID         Country  \n",
            "0 2010-12-01 08:26:00       2.55     17850.0  United Kingdom  \n",
            "1 2010-12-01 08:26:00       3.39     17850.0  United Kingdom  \n",
            "2 2010-12-01 08:26:00       2.75     17850.0  United Kingdom  \n",
            "3 2010-12-01 08:26:00       3.39     17850.0  United Kingdom  \n",
            "4 2010-12-01 08:26:00       3.39     17850.0  United Kingdom  \n"
          ]
        }
      ],
      "source": [
        "!pip install ace_tools\n",
        "import pandas as pd\n",
        "\n",
        "data = pd.read_excel('/content/Online Retail 2.xlsx')\n",
        "\n",
        "print(data.info())\n",
        "print(data.head())"
      ]
    },
    {
      "cell_type": "code",
      "source": [
        "import pandas as pd\n",
        "\n",
        "#변수 체계 템플릿 작성\n",
        "variable_summary = pd.DataFrame(columns=['변수명', '데이터 타입', '변수 유형', '설명', '결측치 수', '고유값 수', '통계량'])\n",
        "\n",
        "#변수에 대한 간단한 설명 작성\n",
        "variable_descriptions = {'Invoice': '고객 송장 번호',\n",
        "                         'StockCode': '상품 코드',\n",
        "                         'Description': '상품 설명',\n",
        "                         'Quantity': '주문 수량',\n",
        "                         'InvoiceDate': '송장 날짜',\n",
        "                         'Price': '상품 가격',\n",
        "                         'Customer ID': '고객 ID',\n",
        "                         'Country': '국가'\n",
        "}\n",
        "\n",
        "#각 변수에 대한 정보 추가\n",
        "variable_data = []\n",
        "for col in data.columns:\n",
        "    data_type = data[col].dtype\n",
        "    variable_type = '숫자형' if pd.api.types.is_numeric_dtype(data[col]) else '범주형'\n",
        "    description = variable_descriptions.get(col, '설명 없음')\n",
        "    missing_values = data[col].isnull().sum()\n",
        "    unique_values = data[col].nunique()\n",
        "\n",
        "    #숫자형 변수의 경우 통계량 계산\n",
        "    if variable_type =='숫자형':\n",
        "        stats = data[col].describe().to_dict()\n",
        "    else:\n",
        "        stats = data[col].value_counts().to_dict()\n",
        "\n",
        "    #변수 정보 추가\n",
        "    variable_data.append({\n",
        "        '변수명':col,\n",
        "        '데이터 타입': data_type,\n",
        "        '변수 유형': variable_type,\n",
        "        '설명': description,\n",
        "        '결측치 수': missing_values,\n",
        "        '고유값 수': unique_values,\n",
        "        '통계량': stats\n",
        "    })\n",
        "\n",
        "    variable_summary = pd.DataFrame(variable_data)\n",
        "\n",
        "    #데이터프레임 출력\n",
        "    print(variable_summary)\n",
        "\n"
      ],
      "metadata": {
        "colab": {
          "base_uri": "https://localhost:8080/"
        },
        "id": "f9udTciKWMTC",
        "outputId": "78eab966-3169-49c0-dad5-d12aa32adf18"
      },
      "execution_count": 7,
      "outputs": [
        {
          "output_type": "stream",
          "name": "stdout",
          "text": [
            "         변수명  데이터 타입 변수 유형     설명  결측치 수  고유값 수  \\\n",
            "0  InvoiceNo  object   범주형  설명 없음      0  25900   \n",
            "\n",
            "                                                 통계량  \n",
            "0  {573585: 1114, 581219: 749, 581492: 731, 58072...  \n",
            "         변수명  데이터 타입 변수 유형     설명  결측치 수  고유값 수  \\\n",
            "0  InvoiceNo  object   범주형  설명 없음      0  25900   \n",
            "1  StockCode  object   범주형  상품 코드      0   4070   \n",
            "\n",
            "                                                 통계량  \n",
            "0  {573585: 1114, 581219: 749, 581492: 731, 58072...  \n",
            "1  {'85123A': 2313, 22423: 2203, '85099B': 2159, ...  \n",
            "           변수명  데이터 타입 변수 유형     설명  결측치 수  고유값 수  \\\n",
            "0    InvoiceNo  object   범주형  설명 없음      0  25900   \n",
            "1    StockCode  object   범주형  상품 코드      0   4070   \n",
            "2  Description  object   범주형  상품 설명   1454   4223   \n",
            "\n",
            "                                                 통계량  \n",
            "0  {573585: 1114, 581219: 749, 581492: 731, 58072...  \n",
            "1  {'85123A': 2313, 22423: 2203, '85099B': 2159, ...  \n",
            "2  {'WHITE HANGING HEART T-LIGHT HOLDER': 2369, '...  \n",
            "           변수명  데이터 타입 변수 유형     설명  결측치 수  고유값 수  \\\n",
            "0    InvoiceNo  object   범주형  설명 없음      0  25900   \n",
            "1    StockCode  object   범주형  상품 코드      0   4070   \n",
            "2  Description  object   범주형  상품 설명   1454   4223   \n",
            "3     Quantity   int64   숫자형  주문 수량      0    722   \n",
            "\n",
            "                                                 통계량  \n",
            "0  {573585: 1114, 581219: 749, 581492: 731, 58072...  \n",
            "1  {'85123A': 2313, 22423: 2203, '85099B': 2159, ...  \n",
            "2  {'WHITE HANGING HEART T-LIGHT HOLDER': 2369, '...  \n",
            "3  {'count': 541909.0, 'mean': 9.55224954743324, ...  \n",
            "           변수명          데이터 타입 변수 유형     설명  결측치 수  고유값 수  \\\n",
            "0    InvoiceNo          object   범주형  설명 없음      0  25900   \n",
            "1    StockCode          object   범주형  상품 코드      0   4070   \n",
            "2  Description          object   범주형  상품 설명   1454   4223   \n",
            "3     Quantity           int64   숫자형  주문 수량      0    722   \n",
            "4  InvoiceDate  datetime64[ns]   범주형  송장 날짜      0  23260   \n",
            "\n",
            "                                                 통계량  \n",
            "0  {573585: 1114, 581219: 749, 581492: 731, 58072...  \n",
            "1  {'85123A': 2313, 22423: 2203, '85099B': 2159, ...  \n",
            "2  {'WHITE HANGING HEART T-LIGHT HOLDER': 2369, '...  \n",
            "3  {'count': 541909.0, 'mean': 9.55224954743324, ...  \n",
            "4  {2011-10-31 14:41:00: 1114, 2011-12-08 09:28:0...  \n",
            "           변수명          데이터 타입 변수 유형     설명  결측치 수  고유값 수  \\\n",
            "0    InvoiceNo          object   범주형  설명 없음      0  25900   \n",
            "1    StockCode          object   범주형  상품 코드      0   4070   \n",
            "2  Description          object   범주형  상품 설명   1454   4223   \n",
            "3     Quantity           int64   숫자형  주문 수량      0    722   \n",
            "4  InvoiceDate  datetime64[ns]   범주형  송장 날짜      0  23260   \n",
            "5    UnitPrice         float64   숫자형  설명 없음      0   1630   \n",
            "\n",
            "                                                 통계량  \n",
            "0  {573585: 1114, 581219: 749, 581492: 731, 58072...  \n",
            "1  {'85123A': 2313, 22423: 2203, '85099B': 2159, ...  \n",
            "2  {'WHITE HANGING HEART T-LIGHT HOLDER': 2369, '...  \n",
            "3  {'count': 541909.0, 'mean': 9.55224954743324, ...  \n",
            "4  {2011-10-31 14:41:00: 1114, 2011-12-08 09:28:0...  \n",
            "5  {'count': 541909.0, 'mean': 4.611113626088513,...  \n",
            "           변수명          데이터 타입 변수 유형     설명   결측치 수  고유값 수  \\\n",
            "0    InvoiceNo          object   범주형  설명 없음       0  25900   \n",
            "1    StockCode          object   범주형  상품 코드       0   4070   \n",
            "2  Description          object   범주형  상품 설명    1454   4223   \n",
            "3     Quantity           int64   숫자형  주문 수량       0    722   \n",
            "4  InvoiceDate  datetime64[ns]   범주형  송장 날짜       0  23260   \n",
            "5    UnitPrice         float64   숫자형  설명 없음       0   1630   \n",
            "6   CustomerID         float64   숫자형  설명 없음  135080   4372   \n",
            "\n",
            "                                                 통계량  \n",
            "0  {573585: 1114, 581219: 749, 581492: 731, 58072...  \n",
            "1  {'85123A': 2313, 22423: 2203, '85099B': 2159, ...  \n",
            "2  {'WHITE HANGING HEART T-LIGHT HOLDER': 2369, '...  \n",
            "3  {'count': 541909.0, 'mean': 9.55224954743324, ...  \n",
            "4  {2011-10-31 14:41:00: 1114, 2011-12-08 09:28:0...  \n",
            "5  {'count': 541909.0, 'mean': 4.611113626088513,...  \n",
            "6  {'count': 406829.0, 'mean': 15287.690570239585...  \n",
            "           변수명          데이터 타입 변수 유형     설명   결측치 수  고유값 수  \\\n",
            "0    InvoiceNo          object   범주형  설명 없음       0  25900   \n",
            "1    StockCode          object   범주형  상품 코드       0   4070   \n",
            "2  Description          object   범주형  상품 설명    1454   4223   \n",
            "3     Quantity           int64   숫자형  주문 수량       0    722   \n",
            "4  InvoiceDate  datetime64[ns]   범주형  송장 날짜       0  23260   \n",
            "5    UnitPrice         float64   숫자형  설명 없음       0   1630   \n",
            "6   CustomerID         float64   숫자형  설명 없음  135080   4372   \n",
            "7      Country          object   범주형     국가       0     38   \n",
            "\n",
            "                                                 통계량  \n",
            "0  {573585: 1114, 581219: 749, 581492: 731, 58072...  \n",
            "1  {'85123A': 2313, 22423: 2203, '85099B': 2159, ...  \n",
            "2  {'WHITE HANGING HEART T-LIGHT HOLDER': 2369, '...  \n",
            "3  {'count': 541909.0, 'mean': 9.55224954743324, ...  \n",
            "4  {2011-10-31 14:41:00: 1114, 2011-12-08 09:28:0...  \n",
            "5  {'count': 541909.0, 'mean': 4.611113626088513,...  \n",
            "6  {'count': 406829.0, 'mean': 15287.690570239585...  \n",
            "7  {'United Kingdom': 495478, 'Germany': 9495, 'F...  \n"
          ]
        }
      ]
    },
    {
      "cell_type": "code",
      "source": [
        "numeric_cols = data.select_dtypes(include=['int64','float64']).columns\n",
        "\n",
        "#중심경향성 측정\n",
        "mean_values = data[numeric_cols].mean()\n",
        "median_values = data[numeric_cols].median()\n",
        "mode_values = data[numeric_cols].mode().iloc[0]\n",
        "\n",
        "print(\"평균:\\\\n\", mean_values)\n",
        "print(\"중앙값:\\\\n\", median_values)\n",
        "print(\"최빈값:\\\\n\", mode_values)"
      ],
      "metadata": {
        "colab": {
          "base_uri": "https://localhost:8080/"
        },
        "id": "6IdB2jAdZNfK",
        "outputId": "20f72c31-b55b-4626-a516-c1944d7e820a"
      },
      "execution_count": 8,
      "outputs": [
        {
          "output_type": "stream",
          "name": "stdout",
          "text": [
            "평균:\\n Quantity          9.552250\n",
            "UnitPrice         4.611114\n",
            "CustomerID    15287.690570\n",
            "dtype: float64\n",
            "중앙값:\\n Quantity          3.00\n",
            "UnitPrice         2.08\n",
            "CustomerID    15152.00\n",
            "dtype: float64\n",
            "최빈값:\\n Quantity          1.00\n",
            "UnitPrice         1.25\n",
            "CustomerID    17841.00\n",
            "Name: 0, dtype: float64\n"
          ]
        }
      ]
    },
    {
      "cell_type": "code",
      "source": [
        "range_values = data[numeric_cols].max() - data[numeric_cols].min()\n",
        "variance_values = data[numeric_cols].var()\n",
        "std_dev_values = data[numeric_cols].std()\n",
        "\n",
        "print(\"범위:\\\\n\", range_values)\n",
        "print(\"분산:\\\\n\", variance_values)\n",
        "print(\"표준편차:\\\\n\", std_dev_values)"
      ],
      "metadata": {
        "colab": {
          "base_uri": "https://localhost:8080/"
        },
        "id": "-GX2dN7_Z5kk",
        "outputId": "12ffc5ce-dc1a-49cb-92f9-b1964dad8309"
      },
      "execution_count": 9,
      "outputs": [
        {
          "output_type": "stream",
          "name": "stdout",
          "text": [
            "범위:\\n Quantity      161990.00\n",
            "UnitPrice      50032.06\n",
            "CustomerID      5941.00\n",
            "dtype: float64\n",
            "분산:\\n Quantity      4.755939e+04\n",
            "UnitPrice     9.362469e+03\n",
            "CustomerID    2.936426e+06\n",
            "dtype: float64\n",
            "표준편차:\\n Quantity       218.081158\n",
            "UnitPrice       96.759853\n",
            "CustomerID    1713.600303\n",
            "dtype: float64\n"
          ]
        }
      ]
    },
    {
      "cell_type": "code",
      "source": [
        "from scipy.stats import skew, kurtosis\n",
        "\n",
        "skewness_values = data[numeric_cols].apply(skew)\n",
        "kurtosis_values = data[numeric_cols].apply(kurtosis)\n",
        "\n",
        "print(\"왜도:\\\\n\", skewness_values)\n",
        "print(\"첨도:\\\\n\", kurtosis_values)"
      ],
      "metadata": {
        "colab": {
          "base_uri": "https://localhost:8080/"
        },
        "id": "6zY5ystIaXwy",
        "outputId": "5fde3bf2-094b-4e6a-cf18-5ccec03beb36"
      },
      "execution_count": 10,
      "outputs": [
        {
          "output_type": "stream",
          "name": "stdout",
          "text": [
            "왜도:\\n Quantity       -0.264076\n",
            "UnitPrice     186.506455\n",
            "CustomerID           NaN\n",
            "dtype: float64\n",
            "첨도:\\n Quantity      119768.054955\n",
            "UnitPrice      59005.174663\n",
            "CustomerID              NaN\n",
            "dtype: float64\n"
          ]
        }
      ]
    },
    {
      "cell_type": "code",
      "source": [
        "Q1 = data[numeric_cols].quantile(0.25)\n",
        "Q3 = data[numeric_cols].quantile(0.75)\n",
        "IQR = Q3 - Q1\n",
        "\n",
        "lower_bound = Q1 - 1.5 * IQR\n",
        "upper_bound = Q3 + 1.5 * IQR\n",
        "\n",
        "outliers = ((data[numeric_cols] < lower_bound) | data[numeric_cols] > upper_bound).sum()\n",
        "\n",
        "print(\"이상치 수:\\\\n\", outliers)"
      ],
      "metadata": {
        "colab": {
          "base_uri": "https://localhost:8080/"
        },
        "id": "4-Poy3NNa58z",
        "outputId": "c0b410c7-1366-4c42-abcc-52fa9290e7be"
      },
      "execution_count": 12,
      "outputs": [
        {
          "output_type": "stream",
          "name": "stdout",
          "text": [
            "이상치 수:\\n Quantity      0\n",
            "UnitPrice     0\n",
            "CustomerID    0\n",
            "dtype: int64\n"
          ]
        }
      ]
    },
    {
      "cell_type": "code",
      "source": [
        "from scipy.stats import shapiro\n",
        "\n",
        "shapiro_results = data[numeric_cols].apply(lambda x: shapiro(x.dropna())[1])\n",
        "\n",
        "print(\"Shapiro-Wilk p-value:\\\\n\", shapiro_results)"
      ],
      "metadata": {
        "colab": {
          "base_uri": "https://localhost:8080/"
        },
        "id": "7TMk8CYPbrtc",
        "outputId": "2c1ed4b9-1d42-42c3-bce6-07b9cf051d7b"
      },
      "execution_count": 13,
      "outputs": [
        {
          "output_type": "stream",
          "name": "stdout",
          "text": [
            "Shapiro-Wilk p-value:\\n Quantity      0.0\n",
            "UnitPrice     0.0\n",
            "CustomerID    0.0\n",
            "dtype: float64\n"
          ]
        },
        {
          "output_type": "stream",
          "name": "stderr",
          "text": [
            "/usr/local/lib/python3.10/dist-packages/scipy/stats/_morestats.py:1882: UserWarning: p-value may not be accurate for N > 5000.\n",
            "  warnings.warn(\"p-value may not be accurate for N > 5000.\")\n"
          ]
        }
      ]
    },
    {
      "cell_type": "code",
      "source": [
        "import pandas as pd\n",
        "from scipy.stats import skew, kurtosis, shapiro\n",
        "\n",
        "# 숫자형 변수 선택\n",
        "numeric_cols = data.select_dtypes(include=['int64', 'float64']).columns\n",
        "\n",
        "# 각 통계량 계산\n",
        "statistics_summary = pd.DataFrame(index=numeric_cols, columns=[\n",
        "    '평균', '중앙값', '최빈값', '범위', '분산', '표준편차',\n",
        "    '왜도', '첨도', '이상치 수', 'Shapiro-Wilk p-value'\n",
        "])\n",
        "\n",
        "# 계산된 통계량을 데이터프레임에 추가\n",
        "statistics_summary['평균'] = data[numeric_cols].mean()\n",
        "statistics_summary['중앙값'] = data[numeric_cols].median()\n",
        "statistics_summary['최빈값'] = data[numeric_cols].mode().iloc[0]\n",
        "statistics_summary['범위'] = data[numeric_cols].max() - data[numeric_cols].min()\n",
        "statistics_summary['분산'] = data[numeric_cols].var()\n",
        "statistics_summary['표준편차'] = data[numeric_cols].std()\n",
        "statistics_summary['왜도'] = data[numeric_cols].apply(skew)\n",
        "statistics_summary['첨도'] = data[numeric_cols].apply(kurtosis)\n",
        "\n",
        "Q1 = data[numeric_cols].quantile(0.25)\n",
        "Q3 = data[numeric_cols].quantile(0.75)\n",
        "IQR = Q3 - Q1\n",
        "lower_bound = Q1 - 1.5 * IQR\n",
        "upper_bound = Q3 + 1.5 * IQR\n",
        "outliers = ((data[numeric_cols] < lower_bound) | (data[numeric_cols] > upper_bound)).sum()\n",
        "statistics_summary['이상치 수'] = outliers\n",
        "\n",
        "statistics_summary['Shapiro-Wilk p-value'] = data[numeric_cols].apply(lambda x: shapiro(x.dropna())[1])\n",
        "\n",
        "# 데이터프레임 출력\n",
        "print(statistics_summary)\n",
        "\n",
        "# CSV 파일로 저장\n",
        "statistics_summary.to_csv('numeric_statistics_summary.csv', index=True)\n"
      ],
      "metadata": {
        "colab": {
          "base_uri": "https://localhost:8080/"
        },
        "id": "gCOXu2-xcLK1",
        "outputId": "2b07395c-6258-40ea-8765-84fe1e59574d"
      },
      "execution_count": 14,
      "outputs": [
        {
          "output_type": "stream",
          "name": "stdout",
          "text": [
            "                      평균       중앙값       최빈값         범위            분산  \\\n",
            "Quantity        9.552250      3.00      1.00  161990.00  4.755939e+04   \n",
            "UnitPrice       4.611114      2.08      1.25   50032.06  9.362469e+03   \n",
            "CustomerID  15287.690570  15152.00  17841.00    5941.00  2.936426e+06   \n",
            "\n",
            "                   표준편차          왜도             첨도  이상치 수  \\\n",
            "Quantity     218.081158   -0.264076  119768.054955  58619   \n",
            "UnitPrice     96.759853  186.506455   59005.174663  39627   \n",
            "CustomerID  1713.600303         NaN            NaN      0   \n",
            "\n",
            "            Shapiro-Wilk p-value  \n",
            "Quantity                     0.0  \n",
            "UnitPrice                    0.0  \n",
            "CustomerID                   0.0  \n"
          ]
        },
        {
          "output_type": "stream",
          "name": "stderr",
          "text": [
            "/usr/local/lib/python3.10/dist-packages/scipy/stats/_morestats.py:1882: UserWarning: p-value may not be accurate for N > 5000.\n",
            "  warnings.warn(\"p-value may not be accurate for N > 5000.\")\n"
          ]
        }
      ]
    },
    {
      "cell_type": "code",
      "source": [
        "categorical_cols = data.select_dtypes(include=['object']).columns\n",
        "\n",
        "# 각 범주의 빈도수 계산\n",
        "for col in categorical_cols:\n",
        "    print(f\"{col} 빈도수:\\\\n\", data[col].value_counts())"
      ],
      "metadata": {
        "colab": {
          "base_uri": "https://localhost:8080/"
        },
        "id": "rF4yKBtFcaST",
        "outputId": "86595a25-63e5-4a7a-e9ff-c846dee35561"
      },
      "execution_count": 15,
      "outputs": [
        {
          "output_type": "stream",
          "name": "stdout",
          "text": [
            "InvoiceNo 빈도수:\\n InvoiceNo\n",
            "573585     1114\n",
            "581219      749\n",
            "581492      731\n",
            "580729      721\n",
            "558475      705\n",
            "           ... \n",
            "554023        1\n",
            "554022        1\n",
            "554021        1\n",
            "554020        1\n",
            "C558901       1\n",
            "Name: count, Length: 25900, dtype: int64\n",
            "StockCode 빈도수:\\n StockCode\n",
            "85123A    2313\n",
            "22423     2203\n",
            "85099B    2159\n",
            "47566     1727\n",
            "20725     1639\n",
            "          ... \n",
            "21431        1\n",
            "22275        1\n",
            "17001        1\n",
            "90187A       1\n",
            "72759        1\n",
            "Name: count, Length: 4070, dtype: int64\n",
            "Description 빈도수:\\n Description\n",
            "WHITE HANGING HEART T-LIGHT HOLDER     2369\n",
            "REGENCY CAKESTAND 3 TIER               2200\n",
            "JUMBO BAG RED RETROSPOT                2159\n",
            "PARTY BUNTING                          1727\n",
            "LUNCH BAG RED RETROSPOT                1638\n",
            "                                       ... \n",
            "Missing                                   1\n",
            "historic computer difference?....se       1\n",
            "DUSTY PINK CHRISTMAS TREE 30CM            1\n",
            "WRAP BLUE RUSSIAN FOLKART                 1\n",
            "PINK BERTIE MOBILE PHONE CHARM            1\n",
            "Name: count, Length: 4223, dtype: int64\n",
            "Country 빈도수:\\n Country\n",
            "United Kingdom          495478\n",
            "Germany                   9495\n",
            "France                    8557\n",
            "EIRE                      8196\n",
            "Spain                     2533\n",
            "Netherlands               2371\n",
            "Belgium                   2069\n",
            "Switzerland               2002\n",
            "Portugal                  1519\n",
            "Australia                 1259\n",
            "Norway                    1086\n",
            "Italy                      803\n",
            "Channel Islands            758\n",
            "Finland                    695\n",
            "Cyprus                     622\n",
            "Sweden                     462\n",
            "Unspecified                446\n",
            "Austria                    401\n",
            "Denmark                    389\n",
            "Japan                      358\n",
            "Poland                     341\n",
            "Israel                     297\n",
            "USA                        291\n",
            "Hong Kong                  288\n",
            "Singapore                  229\n",
            "Iceland                    182\n",
            "Canada                     151\n",
            "Greece                     146\n",
            "Malta                      127\n",
            "United Arab Emirates        68\n",
            "European Community          61\n",
            "RSA                         58\n",
            "Lebanon                     45\n",
            "Lithuania                   35\n",
            "Brazil                      32\n",
            "Czech Republic              30\n",
            "Bahrain                     19\n",
            "Saudi Arabia                10\n",
            "Name: count, dtype: int64\n"
          ]
        }
      ]
    },
    {
      "cell_type": "code",
      "source": [
        "mode_value"
      ],
      "metadata": {
        "id": "ih24vf-2e9oK"
      },
      "execution_count": null,
      "outputs": []
    },
    {
      "cell_type": "code",
      "source": [
        "mode_values_categorical = data[categorical_cols].mode().iloc[0]\n",
        "print(\"최빈값:\\\\n\", mode_values_categorical)"
      ],
      "metadata": {
        "colab": {
          "base_uri": "https://localhost:8080/"
        },
        "id": "oVLxp5kvd1_W",
        "outputId": "ab7583d2-9f49-420a-c678-fec558f902e7"
      },
      "execution_count": 16,
      "outputs": [
        {
          "output_type": "stream",
          "name": "stdout",
          "text": [
            "최빈값:\\n InvoiceNo                                  573585\n",
            "StockCode                                  85123A\n",
            "Description    WHITE HANGING HEART T-LIGHT HOLDER\n",
            "Country                            United Kingdom\n",
            "Name: 0, dtype: object\n"
          ]
        }
      ]
    },
    {
      "cell_type": "code",
      "source": [
        "from scipy.stats import entropy\n",
        "\n",
        "entropy_values = data[categorical_cols].apply(lambda x: entropy(x.value_counts(normalize=True)))\n",
        "\n",
        "print(\"엔트로피 값:\\\\n\", entropy_values)"
      ],
      "metadata": {
        "colab": {
          "base_uri": "https://localhost:8080/"
        },
        "id": "1mj8uFr3fzks",
        "outputId": "9068fbdc-d809-4caa-a519-fa6c9841e417"
      },
      "execution_count": 18,
      "outputs": [
        {
          "output_type": "stream",
          "name": "stdout",
          "text": [
            "엔트로피 값:\\n InvoiceNo      9.279719\n",
            "StockCode      7.561546\n",
            "Description    7.575455\n",
            "Country        0.513305\n",
            "dtype: float64\n"
          ]
        }
      ]
    },
    {
      "cell_type": "code",
      "source": [
        "from scipy.stats import chi2_contingency\n",
        "\n",
        "#두 범주형 변수 간의 카이제곱 검정\n",
        "contingency_table = pd.crosstab(data['Country'], data['Description'])\n",
        "chi2, p, dof, expected = chi2_contingency(contingency_table)\n",
        "\n",
        "print(f\"카이제곱 검정 p-value: {p}\")"
      ],
      "metadata": {
        "colab": {
          "base_uri": "https://localhost:8080/"
        },
        "id": "g9f1t5zWgVQ2",
        "outputId": "9ffe7777-a122-4a4f-a9f5-0e0761c26ef8"
      },
      "execution_count": 19,
      "outputs": [
        {
          "output_type": "stream",
          "name": "stdout",
          "text": [
            "카이제곱 검정 p-value: 0.0\n"
          ]
        }
      ]
    },
    {
      "cell_type": "code",
      "source": [
        "import pandas as pd\n",
        "from scipy.stats import entropy, chi2_contingency\n",
        "\n",
        "# 범주형 변수 선택\n",
        "categorical_cols = data.select_dtypes(include=['object']).columns\n",
        "\n",
        "# 변수 체계 템플릿 작성\n",
        "categorical_summary = pd.DataFrame(columns=[\n",
        "    '변수명', '고유값 수', '최빈값', '엔트로피', '카이제곱 검정 p-value'\n",
        "])\n",
        "\n",
        "# 각 범주형 변수에 대한 정보 추가\n",
        "categorical_data = []\n",
        "for col in categorical_cols:\n",
        "    unique_values = data[col].nunique()\n",
        "    mode_value = data[col].mode().iloc[0]\n",
        "    entropy_value = entropy(data[col].value_counts(normalize=True))\n",
        "\n",
        "    #두 범주형 변수 간의 카이제곱 검정 (임의로 Country와 Description 선택)\n",
        "    contingency_table = pd.crosstab(data['Country'], data['Description'])\n",
        "    chi2, p, dof, expected = chi2_contingency(contingency_table)\n",
        "\n",
        "    categorical_data.append({\n",
        "        '변수명': col,\n",
        "        '고유값 수': unique_values,\n",
        "        '최빈값': mode_value,\n",
        "        '엔트로피': entropy_value,\n",
        "        '카이제곱 검정 p-value': p\n",
        "    })\n",
        "\n",
        "categorical_summary = pd.DataFrame(categorical_data)\n",
        "\n",
        "# 데이터프레임 출력\n",
        "print(categorical_summary)\n",
        "\n",
        "# CSV 파일로 저장\n",
        "csv_file_path = 'categorical_summary.csv'\n",
        "categorical_summary.to_csv(csv_file_path, index=False)\n",
        "\n",
        "print(f\"범주형 변수 체계 템플릿이 CSV 파일로 저장되었습니다: {csv_file_path}\")"
      ],
      "metadata": {
        "colab": {
          "base_uri": "https://localhost:8080/"
        },
        "id": "aYB6aS9xg0m3",
        "outputId": "bfd9e70e-21db-453b-95a7-ad6f55291654"
      },
      "execution_count": 20,
      "outputs": [
        {
          "output_type": "stream",
          "name": "stdout",
          "text": [
            "           변수명  고유값 수                                 최빈값      엔트로피  \\\n",
            "0    InvoiceNo  25900                              573585  9.279719   \n",
            "1    StockCode   4070                              85123A  7.561546   \n",
            "2  Description   4223  WHITE HANGING HEART T-LIGHT HOLDER  7.575455   \n",
            "3      Country     38                      United Kingdom  0.513305   \n",
            "\n",
            "   카이제곱 검정 p-value  \n",
            "0              0.0  \n",
            "1              0.0  \n",
            "2              0.0  \n",
            "3              0.0  \n",
            "범주형 변수 체계 템플릿이 CSV 파일로 저장되었습니다: categorical_summary.csv\n"
          ]
        }
      ]
    },
    {
      "cell_type": "code",
      "source": [
        "#결측치 개수 확인\n",
        "missing_values_count = data.isnull().sum()\n",
        "missing_values_ratio = data.isnull().mean() * 100\n",
        "print(\"결측치 개수:\\\\n\", missing_values_count)\n",
        "print(\"결측치 비율:\\\\n\", missing_values_ratio)"
      ],
      "metadata": {
        "colab": {
          "base_uri": "https://localhost:8080/"
        },
        "id": "d8MQYXBihIFF",
        "outputId": "c3adea37-2aa5-406c-d446-4fbdb398d819"
      },
      "execution_count": 22,
      "outputs": [
        {
          "output_type": "stream",
          "name": "stdout",
          "text": [
            "결측치 개수:\\n InvoiceNo           0\n",
            "StockCode           0\n",
            "Description      1454\n",
            "Quantity            0\n",
            "InvoiceDate         0\n",
            "UnitPrice           0\n",
            "CustomerID     135080\n",
            "Country             0\n",
            "dtype: int64\n",
            "결측치 비율:\\n InvoiceNo       0.000000\n",
            "StockCode       0.000000\n",
            "Description     0.268311\n",
            "Quantity        0.000000\n",
            "InvoiceDate     0.000000\n",
            "UnitPrice       0.000000\n",
            "CustomerID     24.926694\n",
            "Country         0.000000\n",
            "dtype: float64\n"
          ]
        }
      ]
    },
    {
      "cell_type": "code",
      "source": [
        "#결측치 처리: 단순 전진 채움\n",
        "data = data.fillna(method='ffill')\n",
        "\n",
        "#처리 후 확인\n",
        "print(\"결측치 처리후 결측치 개수:\\\\n\", data.isnull().sum())"
      ],
      "metadata": {
        "colab": {
          "base_uri": "https://localhost:8080/"
        },
        "id": "DD2zcc-chggN",
        "outputId": "cce6c085-2eea-46e0-ec55-2ce8aa461518"
      },
      "execution_count": 23,
      "outputs": [
        {
          "output_type": "stream",
          "name": "stdout",
          "text": [
            "결측치 처리후 결측치 개수:\\n InvoiceNo      0\n",
            "StockCode      0\n",
            "Description    0\n",
            "Quantity       0\n",
            "InvoiceDate    0\n",
            "UnitPrice      0\n",
            "CustomerID     0\n",
            "Country        0\n",
            "dtype: int64\n"
          ]
        }
      ]
    },
    {
      "cell_type": "code",
      "source": [
        "#숫자형 변수 선택\n",
        "numeric_cols = data.select_dtypes(include=['int64', 'float64']).columns\n",
        "\n",
        "#이상치 탐지\n",
        "Q1 = data[numeric_cols].quantile(0.25)\n",
        "Q3 = data[numeric_cols].quantile(0.75)\n",
        "IQR = Q3 - Q1\n",
        "lower_bound = Q1 - 1.5 * IQR\n",
        "upper_bound = Q3 + 1.5 * IQR\n",
        "\n",
        "outliers = ((data[numeric_cols] < lower_bound) | (data[numeric_cols] > upper_bound)).sum()\n",
        "print(\"이상치 수:\\\\n\", outliers)"
      ],
      "metadata": {
        "colab": {
          "base_uri": "https://localhost:8080/"
        },
        "id": "PDZQFL1lh4Yl",
        "outputId": "c14b7b77-fff0-4ea4-be72-c88611731eca"
      },
      "execution_count": 25,
      "outputs": [
        {
          "output_type": "stream",
          "name": "stdout",
          "text": [
            "이상치 수:\\n Quantity      58619\n",
            "UnitPrice     39627\n",
            "CustomerID        0\n",
            "dtype: int64\n"
          ]
        }
      ]
    },
    {
      "cell_type": "code",
      "source": [
        "#이상치 제거\n",
        "data_cleaned = data[~((data[numeric_cols] < lower_bound) | (data[numeric_cols] > upper_bound)).any(axis=1)]\n",
        "\n",
        "#처리 후 확인\n",
        "print(\"이상치 처리 후 데이터 크기:\\\\n\", data_cleaned.shape)"
      ],
      "metadata": {
        "colab": {
          "base_uri": "https://localhost:8080/"
        },
        "id": "k4hbHHb9iD2b",
        "outputId": "8a3608ca-4bf2-4a8a-d87e-22c9d65d4944"
      },
      "execution_count": 26,
      "outputs": [
        {
          "output_type": "stream",
          "name": "stdout",
          "text": [
            "이상치 처리 후 데이터 크기:\\n (444108, 8)\n"
          ]
        }
      ]
    }
  ]
}